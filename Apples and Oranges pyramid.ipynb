{
 "cells": [
  {
   "cell_type": "code",
   "execution_count": 61,
   "metadata": {
    "collapsed": true
   },
   "outputs": [],
   "source": [
    "import cv2\n",
    "import numpy as np"
   ]
  },
  {
   "cell_type": "code",
   "execution_count": 62,
   "metadata": {
    "collapsed": false
   },
   "outputs": [],
   "source": [
    "apple = cv2.imread(r'C:/Users/user/Desktop/apple.jpg')\n",
    "orange = cv2.imread(r'C:/Users/user/Desktop/orange.jpg')\n",
    "apple = cv2.resize(apple,orange.shape[:2:])"
   ]
  },
  {
   "cell_type": "code",
   "execution_count": 64,
   "metadata": {
    "collapsed": false
   },
   "outputs": [],
   "source": [
    "# Making pyramids\n",
    "\n",
    "# Gaussian\n",
    "\n",
    "# Apple pyramid\n",
    "\n",
    "AC = apple.copy()\n",
    "gpA = [AC]\n",
    "for i in range(6):\n",
    "    AC = cv2.pyrDown(gpA[i])\n",
    "    gpA.append(AC)"
   ]
  },
  {
   "cell_type": "code",
   "execution_count": 65,
   "metadata": {
    "collapsed": false
   },
   "outputs": [],
   "source": [
    "# Orange pyramid\n",
    "\n",
    "OC = orange.copy()\n",
    "gpO = [OC]\n",
    "for i in range(6):\n",
    "    OC = cv2.pyrDown(gpO[i])\n",
    "    gpO.append(OC)"
   ]
  },
  {
   "cell_type": "code",
   "execution_count": 67,
   "metadata": {
    "collapsed": false
   },
   "outputs": [],
   "source": [
    "# Laplacian\n",
    "\n",
    "# Apple pyramid\n",
    "\n",
    "lpA = [gpA[5]]\n",
    "for i in range(5,0,-1):\n",
    "    size = (gpA[i-1].shape[1], gpA[i-1].shape[0])\n",
    "    GE = cv2.pyrUp(gpA[i], dstsize = size)\n",
    "    L = cv2.subtract(gpA[i-1],GE)\n",
    "    lpA.append(L)\n",
    "\n",
    "# Orange Pyramid\n",
    "lpO = [gpO[5]]\n",
    "for i in range(5,0,-1):\n",
    "    size = (gpO[i-1].shape[1], gpO[i-1].shape[0])\n",
    "    GE = cv2.pyrUp(gpO[i], dstsize = size)\n",
    "    L = cv2.subtract(gpO[i-1],GE)\n",
    "    lpO.append(L)"
   ]
  },
  {
   "cell_type": "code",
   "execution_count": 73,
   "metadata": {
    "collapsed": false
   },
   "outputs": [
    {
     "name": "stderr",
     "output_type": "stream",
     "text": [
      "C:\\Users\\user\\Anaconda3\\lib\\site-packages\\ipykernel\\__main__.py:6: VisibleDeprecationWarning: using a non-integer number instead of an integer will result in an error in the future\n"
     ]
    }
   ],
   "source": [
    "# Adding left and right\n",
    "\n",
    "LS = []\n",
    "for la,lb in zip(lpA,lpO):\n",
    "    rows,cols,dpt = la.shape\n",
    "    ls = np.hstack((la[:,0:cols/2], lb[:,cols/2:]))\n",
    "    LS.append(ls)\n"
   ]
  },
  {
   "cell_type": "code",
   "execution_count": 75,
   "metadata": {
    "collapsed": false
   },
   "outputs": [],
   "source": [
    "# Reconstruct\n",
    "ls_ = LS[0]\n",
    "\n",
    "for i in range(1,6):\n",
    "    size = (LS[i].shape[1], LS[i].shape[0])\n",
    "    ls_ = cv2.pyrUp(ls_, dstsize = size)\n",
    "    ls_ = cv2.add(ls_, LS[i])"
   ]
  },
  {
   "cell_type": "code",
   "execution_count": 76,
   "metadata": {
    "collapsed": true
   },
   "outputs": [],
   "source": [
    "cv2.imshow('merged',ls_)\n",
    "cv2.waitKey(0)\n",
    "cv2.destroyAllWindows()"
   ]
  },
  {
   "cell_type": "code",
   "execution_count": null,
   "metadata": {
    "collapsed": true
   },
   "outputs": [],
   "source": []
  },
  {
   "cell_type": "code",
   "execution_count": null,
   "metadata": {
    "collapsed": true
   },
   "outputs": [],
   "source": []
  },
  {
   "cell_type": "code",
   "execution_count": null,
   "metadata": {
    "collapsed": true
   },
   "outputs": [],
   "source": []
  }
 ],
 "metadata": {
  "kernelspec": {
   "display_name": "Python [Root]",
   "language": "python",
   "name": "Python [Root]"
  },
  "language_info": {
   "codemirror_mode": {
    "name": "ipython",
    "version": 3
   },
   "file_extension": ".py",
   "mimetype": "text/x-python",
   "name": "python",
   "nbconvert_exporter": "python",
   "pygments_lexer": "ipython3",
   "version": "3.5.1"
  }
 },
 "nbformat": 4,
 "nbformat_minor": 0
}
